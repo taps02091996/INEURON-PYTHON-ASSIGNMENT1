{
 "cells": [
  {
   "cell_type": "markdown",
   "id": "8724f5cb",
   "metadata": {},
   "source": [
    "## QUESTION NO - 1"
   ]
  },
  {
   "cell_type": "code",
   "execution_count": 10,
   "id": "e242c12e",
   "metadata": {},
   "outputs": [
    {
     "name": "stdout",
     "output_type": "stream",
     "text": [
      "2002,2009,2016,2023,2037,2044,2051,2058,2072,2079,2086,2093,2107,2114,2121,2128,2142,2149,2156,2163,2177,2184,2191,2198,2212,2219,2226,2233,2247,2254,2261,2268,2282,2289,2296,2303,2317,2324,2331,2338,2352,2359,2366,2373,2387,2394,2401,2408,2422,2429,2436,2443,2457,2464,2471,2478,2492,2499,2506,2513,2527,2534,2541,2548,2562,2569,2576,2583,2597,2604,2611,2618,2632,2639,2646,2653,2667,2674,2681,2688,2702,2709,2716,2723,2737,2744,2751,2758,2772,2779,2786,2793,2807,2814,2821,2828,2842,2849,2856,2863,2877,2884,2891,2898,2912,2919,2926,2933,2947,2954,2961,2968,2982,2989,2996,3003,3017,3024,3031,3038,3052,3059,3066,3073,3087,3094,3101,3108,3122,3129,3136,3143,3157,3164,3171,3178,3192,3199,"
     ]
    }
   ],
   "source": [
    "## TO FIND ALL SUCH NUMBERS WHICH ARE DIVISIBLE BY 7 BUT NOT BY 5 BETWEEN 2000 AND 3200 INCLUDING BOTH IN A COMMA SEPARATED SINGLE LINE\n",
    "for i in range(2000,3201):\n",
    "    if i % 7 == 0 and i % 5 !=0:\n",
    "        print(i, end = ',')\n",
    "        "
   ]
  },
  {
   "cell_type": "markdown",
   "id": "595fd01f",
   "metadata": {},
   "source": [
    "## Question no 2"
   ]
  },
  {
   "cell_type": "code",
   "execution_count": 9,
   "id": "f0ff60c0",
   "metadata": {},
   "outputs": [
    {
     "name": "stdout",
     "output_type": "stream",
     "text": [
      "my first name ' ' my last nameTAPASWANI NAYAK\n",
      "KAYAN INAWSAPAT\n"
     ]
    }
   ],
   "source": [
    "## Accept the user's first name & last name and print it in reverse order with space between first and last name. \n",
    "S = input(\"my first name ' ' my last name\")\n",
    "print(S[::-1])"
   ]
  },
  {
   "cell_type": "code",
   "execution_count": null,
   "id": "7da4a17a",
   "metadata": {},
   "outputs": [],
   "source": []
  },
  {
   "cell_type": "markdown",
   "id": "6055aa66",
   "metadata": {},
   "source": [
    "## QUESTION NO 3"
   ]
  },
  {
   "cell_type": "code",
   "execution_count": 8,
   "id": "f4b26046",
   "metadata": {},
   "outputs": [
    {
     "name": "stdout",
     "output_type": "stream",
     "text": [
      "volume of sphere is : 912.96\n"
     ]
    }
   ],
   "source": [
    "## python program to find the Volume of a Sphere with diametre 12cm.\n",
    "\n",
    "\n",
    "d = 12\n",
    "r = d/2\n",
    "pi = 3.17\n",
    "v= 4/3 * pi * (d/2)**3\n",
    "print (\"volume of sphere is :\" , v)"
   ]
  },
  {
   "cell_type": "code",
   "execution_count": null,
   "id": "98f22553",
   "metadata": {},
   "outputs": [],
   "source": []
  },
  {
   "cell_type": "code",
   "execution_count": null,
   "id": "70ff9d90",
   "metadata": {},
   "outputs": [],
   "source": []
  },
  {
   "cell_type": "code",
   "execution_count": null,
   "id": "f6f40cbe",
   "metadata": {},
   "outputs": [],
   "source": []
  },
  {
   "cell_type": "code",
   "execution_count": null,
   "id": "b34c9461",
   "metadata": {},
   "outputs": [],
   "source": []
  },
  {
   "cell_type": "code",
   "execution_count": null,
   "id": "97c562cc",
   "metadata": {},
   "outputs": [],
   "source": []
  },
  {
   "cell_type": "code",
   "execution_count": null,
   "id": "36e64c83",
   "metadata": {},
   "outputs": [],
   "source": []
  },
  {
   "cell_type": "code",
   "execution_count": null,
   "id": "2a750bfb",
   "metadata": {},
   "outputs": [],
   "source": []
  }
 ],
 "metadata": {
  "kernelspec": {
   "display_name": "Python 3 (ipykernel)",
   "language": "python",
   "name": "python3"
  },
  "language_info": {
   "codemirror_mode": {
    "name": "ipython",
    "version": 3
   },
   "file_extension": ".py",
   "mimetype": "text/x-python",
   "name": "python",
   "nbconvert_exporter": "python",
   "pygments_lexer": "ipython3",
   "version": "3.9.7"
  }
 },
 "nbformat": 4,
 "nbformat_minor": 5
}
